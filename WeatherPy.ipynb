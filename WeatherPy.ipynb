{
 "cells": [
  {
   "cell_type": "markdown",
   "metadata": {},
   "source": [
    "# WeatherPy\n",
    "\n",
    "---\n",
    "\n",
    "## Starter Code to Generate Random Geographic Coordinates and a List of Cities"
   ]
  },
  {
   "cell_type": "code",
   "execution_count": 51,
   "metadata": {
    "scrolled": true
   },
   "outputs": [],
   "source": [
    "# Dependencies and Setup\n",
    "import matplotlib.pyplot as plt\n",
    "import pandas as pd\n",
    "import numpy as np\n",
    "import requests\n",
    "import time\n",
    "from scipy.stats import linregress\n",
    "import json\n",
    "\n",
    "\n",
    "# Impor the OpenWeatherMap API key\n",
    "from api_keys import weather_api_key, geo_api_key\n",
    "\n",
    "# Import citipy to determine the cities based on latitude and longitude\n",
    "from citipy import citipy"
   ]
  },
  {
   "cell_type": "code",
   "execution_count": 110,
   "metadata": {},
   "outputs": [],
   "source": [
    "def name_to_lat_lon(city_name):\n",
    "    cont = json.loads(requests.get(f\"http://api.openweathermap.org/geo/1.0/direct?q={city_name}&appid={weather_api_key}\").content)\n",
    "    try:\n",
    "        test_content = {\"lat\":cont[0][\"lat\"],\"lon\":cont[0][\"lon\"]}\n",
    "        return test_content\n",
    "    except:\n",
    "        print(f\"No Dice On The City Of {city_name} Sending 12s\")\n",
    "        return {\"lat\":12,\"lon\":12}\n",
    "        "
   ]
  },
  {
   "cell_type": "markdown",
   "metadata": {},
   "source": [
    "### Generate the Cities List by Using the `citipy` Library"
   ]
  },
  {
   "cell_type": "code",
   "execution_count": 107,
   "metadata": {},
   "outputs": [
    {
     "name": "stdout",
     "output_type": "stream",
     "text": [
      "Number of cities in the list: 607\n"
     ]
    },
    {
     "data": {
      "text/plain": [
       "'busselton'"
      ]
     },
     "execution_count": 107,
     "metadata": {},
     "output_type": "execute_result"
    }
   ],
   "source": [
    "# Empty list for holding the latitude and longitude combinations\n",
    "lat_lngs = []\n",
    "\n",
    "# Empty list for holding the cities names\n",
    "cities = []\n",
    "\n",
    "# Range of latitudes and longitudes \n",
    "lat_range = (-90, 90)\n",
    "lng_range = (-180, 180)\n",
    "\n",
    "# Create a set of random lat and lng combinations\n",
    "lats = np.random.uniform(lat_range[0], lat_range[1], size=1500)\n",
    "lngs = np.random.uniform(lng_range[0], lng_range[1], size=1500)\n",
    "lat_lngs = zip(lats, lngs)\n",
    "\n",
    "# Identify nearest city for each lat, lng combination\n",
    "for lat_lng in lat_lngs:\n",
    "    city = citipy.nearest_city(lat_lng[0], lat_lng[1]).city_name\n",
    "    \n",
    "    # If the city is unique, then add it to a our cities list\n",
    "    if city not in cities:\n",
    "        cities.append(city)\n",
    "\n",
    "# Print the city count to confirm sufficient count\n",
    "print(f\"Number of cities in the list: {len(cities)}\")\n",
    "cities[0]\n",
    "# print(list(set(lat_lngs))[0])"
   ]
  },
  {
   "cell_type": "code",
   "execution_count": 108,
   "metadata": {},
   "outputs": [],
   "source": [
    "def weather_data_from(city,url,api):\n",
    "    city_lat_lon = name_to_lat_lon(city)\n",
    "    city_url = url + f\"lat={city_lat_lon['lat']}&lon={city_lat_lon['lon']}&appid={api}\"\n",
    "    city_weather = requests.get(city_url)\n",
    "    return json.loads(city_weather.content)"
   ]
  },
  {
   "cell_type": "markdown",
   "metadata": {},
   "source": [
    "---"
   ]
  },
  {
   "cell_type": "markdown",
   "metadata": {},
   "source": [
    "## Requirement 1: Create Plots to Showcase the Relationship Between Weather Variables and Latitude\n",
    "\n",
    "### Use the OpenWeatherMap API to retrieve weather data from the cities list generated in the started code"
   ]
  },
  {
   "cell_type": "code",
   "execution_count": 109,
   "metadata": {},
   "outputs": [
    {
     "name": "stdout",
     "output_type": "stream",
     "text": [
      "Beginning Data Retrieval     \n",
      "-----------------------------\n"
     ]
    }
   ],
   "source": [
    "# Set the API base URL\n",
    "\n",
    "url = f\"https://api.openweathermap.org/data/3.0/onecall?\"\n",
    "\n",
    "# Define an empty list to fetch the weather data for each city\n",
    "city_data = []\n",
    "# Print to logger\n",
    "print(\"Beginning Data Retrieval     \")\n",
    "print(\"-----------------------------\")"
   ]
  },
  {
   "cell_type": "code",
   "execution_count": 111,
   "metadata": {},
   "outputs": [
    {
     "name": "stdout",
     "output_type": "stream",
     "text": [
      "Processing Record 1 of Set 1 | busselton\n",
      "Processing Record 2 of Set 1 | ewa beach\n",
      "Processing Record 3 of Set 1 | yellowknife\n",
      "Processing Record 4 of Set 1 | tuktoyaktuk\n",
      "Processing Record 5 of Set 1 | saskylakh\n",
      "Processing Record 6 of Set 1 | mount gambier\n",
      "Processing Record 7 of Set 1 | farim\n",
      "Processing Record 8 of Set 1 | punta arenas\n",
      "Processing Record 9 of Set 1 | nanakuli\n",
      "Processing Record 10 of Set 1 | sorland\n",
      "Processing Record 11 of Set 1 | castro\n",
      "Processing Record 12 of Set 1 | cape town\n",
      "Processing Record 13 of Set 1 | port hardy\n",
      "Processing Record 14 of Set 1 | new norfolk\n",
      "Processing Record 15 of Set 1 | chipinge\n",
      "Processing Record 16 of Set 1 | ploufragan\n",
      "Processing Record 17 of Set 1 | tuatapere\n",
      "Processing Record 18 of Set 1 | esperance\n",
      "Processing Record 19 of Set 1 | mataura\n",
      "Processing Record 20 of Set 1 | chokurdakh\n",
      "Processing Record 21 of Set 1 | albany\n",
      "Processing Record 22 of Set 1 | palmas bellas\n",
      "Processing Record 23 of Set 1 | ribeira grande\n",
      "Processing Record 24 of Set 1 | coahuayana\n",
      "Processing Record 25 of Set 1 | vaini\n",
      "Processing Record 26 of Set 1 | gold coast\n",
      "Processing Record 27 of Set 1 | puerto ayora\n",
      "Processing Record 28 of Set 1 | sept-iles\n",
      "Processing Record 29 of Set 1 | butaritari\n",
      "Processing Record 30 of Set 1 | nikolskoye\n",
      "Processing Record 31 of Set 1 | ilulissat\n",
      "Processing Record 32 of Set 1 | rikitea\n",
      "Processing Record 33 of Set 1 | falealupo\n",
      "Processing Record 34 of Set 1 | ushuaia\n",
      "Processing Record 35 of Set 1 | cabo san lucas\n",
      "Processing Record 36 of Set 1 | amderma\n",
      "No Dice On The City Of cherskiy Sending 12s\n",
      "Processing Record 37 of Set 1 | cherskiy\n",
      "Processing Record 38 of Set 1 | karimganj\n",
      "Processing Record 39 of Set 1 | kavieng\n",
      "Processing Record 40 of Set 1 | jamestown\n",
      "Processing Record 41 of Set 1 | saldanha\n",
      "Processing Record 42 of Set 1 | diplo\n",
      "Processing Record 43 of Set 1 | sao filipe\n",
      "Processing Record 44 of Set 1 | pevek\n",
      "Processing Record 45 of Set 1 | hobart\n",
      "Processing Record 46 of Set 1 | hithadhoo\n",
      "Processing Record 47 of Set 1 | saint-pierre\n",
      "Processing Record 48 of Set 1 | kavaratti\n",
      "Processing Record 49 of Set 1 | ippy\n",
      "Processing Record 50 of Set 1 | mabaruma\n",
      "Processing Record 0 of Set 2 | atuona\n",
      "Processing Record 1 of Set 2 | attawapiskat\n",
      "Processing Record 2 of Set 2 | mar del plata\n",
      "Processing Record 3 of Set 2 | goroka\n",
      "Processing Record 4 of Set 2 | arroyo\n",
      "Processing Record 5 of Set 2 | hohhot\n",
      "Processing Record 6 of Set 2 | hermanus\n",
      "Processing Record 7 of Set 2 | isangel\n",
      "Processing Record 8 of Set 2 | mogadishu\n",
      "Processing Record 9 of Set 2 | dhidhdhoo\n",
      "Processing Record 10 of Set 2 | hidalgotitlan\n",
      "Processing Record 11 of Set 2 | barentsburg\n",
      "Processing Record 12 of Set 2 | mocuba\n",
      "Processing Record 13 of Set 2 | lorengau\n",
      "Processing Record 14 of Set 2 | katsuura\n",
      "Processing Record 15 of Set 2 | cap-aux-meules\n",
      "Processing Record 16 of Set 2 | farsund\n",
      "Processing Record 17 of Set 2 | east london\n",
      "Processing Record 18 of Set 2 | hope mills\n",
      "Processing Record 19 of Set 2 | natitingou\n",
      "Processing Record 20 of Set 2 | puerto carreno\n",
      "Processing Record 21 of Set 2 | husavik\n",
      "Processing Record 22 of Set 2 | atar\n",
      "Processing Record 23 of Set 2 | merauke\n",
      "Processing Record 24 of Set 2 | korhogo\n",
      "Processing Record 25 of Set 2 | lebu\n",
      "Processing Record 26 of Set 2 | sisimiut\n",
      "Processing Record 27 of Set 2 | vytegra\n",
      "Processing Record 28 of Set 2 | rawson\n",
      "Processing Record 29 of Set 2 | nanortalik\n",
      "Processing Record 30 of Set 2 | dhanera\n",
      "Processing Record 31 of Set 2 | khatanga\n",
      "Processing Record 32 of Set 2 | port blair\n",
      "Processing Record 33 of Set 2 | phuthaditjhaba\n",
      "Processing Record 34 of Set 2 | wuwei\n",
      "Processing Record 35 of Set 2 | graaff-reinet\n",
      "Processing Record 36 of Set 2 | tocopilla\n",
      "Processing Record 37 of Set 2 | presidencia roque saenz pena\n",
      "Processing Record 38 of Set 2 | muisne\n",
      "Processing Record 39 of Set 2 | chuy\n",
      "Processing Record 40 of Set 2 | capitan bado\n",
      "Processing Record 41 of Set 2 | kaitangata\n",
      "No Dice On The City Of sentyabrskiy Sending 12s\n",
      "Processing Record 42 of Set 2 | sentyabrskiy\n",
      "Processing Record 43 of Set 2 | goshogawara\n",
      "Processing Record 44 of Set 2 | batatais\n",
      "No Dice On The City Of shchelyayur Sending 12s\n",
      "Processing Record 45 of Set 2 | shchelyayur\n",
      "Processing Record 46 of Set 2 | cidreira\n",
      "Processing Record 47 of Set 2 | ko samui\n",
      "Processing Record 48 of Set 2 | avarua\n",
      "Processing Record 49 of Set 2 | lady frere\n",
      "Processing Record 0 of Set 3 | hokitika\n",
      "Processing Record 1 of Set 3 | georgetown\n",
      "Processing Record 2 of Set 3 | ekibastuz\n",
      "Processing Record 3 of Set 3 | airai\n",
      "Processing Record 4 of Set 3 | guerrero negro\n",
      "Processing Record 5 of Set 3 | guadalupe y calvo\n",
      "Processing Record 6 of Set 3 | palmer\n",
      "Processing Record 7 of Set 3 | jalu\n",
      "Processing Record 8 of Set 3 | broome\n",
      "Processing Record 9 of Set 3 | wilmington\n",
      "No Dice On The City Of taolanaro Sending 12s\n",
      "Processing Record 10 of Set 3 | taolanaro\n",
      "Processing Record 11 of Set 3 | bethel\n",
      "Processing Record 12 of Set 3 | hilo\n",
      "Processing Record 13 of Set 3 | znamenskoye\n",
      "Processing Record 14 of Set 3 | port-gentil\n",
      "Processing Record 15 of Set 3 | kapaa\n",
      "Processing Record 16 of Set 3 | viedma\n",
      "Processing Record 17 of Set 3 | san carlos del zulia\n",
      "Processing Record 18 of Set 3 | nome\n",
      "Processing Record 19 of Set 3 | torbay\n",
      "Processing Record 20 of Set 3 | faanui\n",
      "Processing Record 21 of Set 3 | kirakira\n",
      "Processing Record 22 of Set 3 | kytmanovo\n",
      "Processing Record 23 of Set 3 | ixtapa\n",
      "Processing Record 24 of Set 3 | kodiak\n",
      "Processing Record 25 of Set 3 | dudinka\n",
      "Processing Record 26 of Set 3 | bayir\n",
      "Processing Record 27 of Set 3 | ponta do sol\n",
      "Processing Record 28 of Set 3 | arraial do cabo\n",
      "Processing Record 29 of Set 3 | xuddur\n",
      "Processing Record 30 of Set 3 | luderitz\n",
      "Processing Record 31 of Set 3 | coihaique\n",
      "Processing Record 32 of Set 3 | palmeira das missoes\n",
      "Processing Record 33 of Set 3 | ivankiv\n",
      "Processing Record 34 of Set 3 | vostok\n",
      "Processing Record 35 of Set 3 | balkanabat\n",
      "Processing Record 36 of Set 3 | bredasdorp\n",
      "Processing Record 37 of Set 3 | mandalgovi\n",
      "Processing Record 38 of Set 3 | lavrentiya\n",
      "Processing Record 39 of Set 3 | sakaraha\n",
      "Processing Record 40 of Set 3 | lompoc\n",
      "Processing Record 41 of Set 3 | cravo norte\n",
      "Processing Record 42 of Set 3 | margate\n",
      "Processing Record 43 of Set 3 | mahebourg\n",
      "Processing Record 44 of Set 3 | nouakchott\n",
      "Processing Record 45 of Set 3 | san andres\n",
      "Processing Record 46 of Set 3 | qaanaaq\n",
      "Processing Record 47 of Set 3 | kabare\n",
      "Processing Record 48 of Set 3 | leningradskiy\n",
      "Processing Record 49 of Set 3 | oussouye\n",
      "Processing Record 0 of Set 4 | sitka\n",
      "Processing Record 1 of Set 4 | louisbourg\n",
      "Processing Record 2 of Set 4 | namibe\n",
      "Processing Record 3 of Set 4 | upernavik\n",
      "Processing Record 4 of Set 4 | zaysan\n",
      "Processing Record 5 of Set 4 | illoqqortoormiut\n",
      "Processing Record 6 of Set 4 | port alfred\n",
      "Processing Record 7 of Set 4 | oksfjord\n",
      "Processing Record 8 of Set 4 | front royal\n",
      "Processing Record 9 of Set 4 | palabuhanratu\n",
      "Processing Record 10 of Set 4 | bulgan\n",
      "Processing Record 11 of Set 4 | ballina\n",
      "Processing Record 12 of Set 4 | severo-kurilsk\n",
      "Processing Record 13 of Set 4 | pochutla\n",
      "Processing Record 14 of Set 4 | baryatino\n",
      "Processing Record 15 of Set 4 | geraldton\n",
      "Processing Record 16 of Set 4 | zhigansk\n",
      "Processing Record 17 of Set 4 | canoinhas\n",
      "Processing Record 18 of Set 4 | bowmore\n",
      "Processing Record 19 of Set 4 | youkounkoun\n",
      "Processing Record 20 of Set 4 | yulara\n",
      "Processing Record 21 of Set 4 | carnarvon\n",
      "Processing Record 22 of Set 4 | ancud\n",
      "Processing Record 23 of Set 4 | tsihombe\n",
      "Processing Record 24 of Set 4 | klyuchi\n",
      "Processing Record 25 of Set 4 | lamu\n",
      "Processing Record 26 of Set 4 | sao joao da barra\n",
      "Processing Record 27 of Set 4 | metu\n",
      "Processing Record 28 of Set 4 | iqaluit\n",
      "Processing Record 29 of Set 4 | ullapool\n",
      "Processing Record 30 of Set 4 | hambantota\n",
      "Processing Record 31 of Set 4 | sibolga\n",
      "Processing Record 32 of Set 4 | kalino\n",
      "Processing Record 33 of Set 4 | san juan\n",
      "Processing Record 34 of Set 4 | rorvik\n",
      "Processing Record 35 of Set 4 | moron\n",
      "Processing Record 36 of Set 4 | ingham\n",
      "Processing Record 37 of Set 4 | mys shmidta\n",
      "Processing Record 38 of Set 4 | kahului\n",
      "Processing Record 39 of Set 4 | petropavlovsk-kamchatskiy\n",
      "Processing Record 40 of Set 4 | minab\n",
      "Processing Record 41 of Set 4 | raudeberg\n",
      "Processing Record 42 of Set 4 | luanda\n",
      "Processing Record 43 of Set 4 | tres passos\n",
      "Processing Record 44 of Set 4 | talnakh\n",
      "Processing Record 45 of Set 4 | koslan\n",
      "Processing Record 46 of Set 4 | freeport\n",
      "Processing Record 47 of Set 4 | portland\n",
      "Processing Record 48 of Set 4 | leh\n",
      "Processing Record 49 of Set 4 | arak\n",
      "Processing Record 0 of Set 5 | saint-joseph\n",
      "Processing Record 1 of Set 5 | coquimbo\n",
      "Processing Record 2 of Set 5 | kununurra\n",
      "Processing Record 3 of Set 5 | hay river\n",
      "Processing Record 4 of Set 5 | san patricio\n",
      "Processing Record 5 of Set 5 | thompson\n",
      "No Dice On The City Of toliary Sending 12s\n",
      "Processing Record 6 of Set 5 | toliary\n",
      "Processing Record 7 of Set 5 | tonota\n",
      "Processing Record 8 of Set 5 | marsa matruh\n",
      "Processing Record 9 of Set 5 | marystown\n",
      "Processing Record 10 of Set 5 | ambodifototra\n",
      "Processing Record 11 of Set 5 | hazorasp\n",
      "Processing Record 12 of Set 5 | lagoa\n",
      "Processing Record 13 of Set 5 | tura\n",
      "Processing Record 14 of Set 5 | buraydah\n",
      "Processing Record 15 of Set 5 | dawlatabad\n",
      "Processing Record 16 of Set 5 | manoel urbano\n",
      "Processing Record 17 of Set 5 | constitucion\n",
      "Processing Record 18 of Set 5 | belushya guba\n",
      "Processing Record 19 of Set 5 | lakatoro\n",
      "Processing Record 20 of Set 5 | el cobre\n",
      "Processing Record 21 of Set 5 | westport\n",
      "Processing Record 22 of Set 5 | sao jose da coroa grande\n",
      "Processing Record 23 of Set 5 | bathsheba\n",
      "Processing Record 24 of Set 5 | srednekolymsk\n",
      "Processing Record 25 of Set 5 | dikson\n",
      "Processing Record 26 of Set 5 | vermillion\n",
      "Processing Record 27 of Set 5 | hastings\n",
      "Processing Record 28 of Set 5 | bluff\n",
      "Processing Record 29 of Set 5 | victoria\n",
      "Processing Record 30 of Set 5 | cruzeiro do sul\n",
      "Processing Record 31 of Set 5 | grado\n",
      "Processing Record 32 of Set 5 | deputatskiy\n",
      "Processing Record 33 of Set 5 | matara\n",
      "Processing Record 34 of Set 5 | shenjiamen\n",
      "Processing Record 35 of Set 5 | sola\n",
      "Processing Record 36 of Set 5 | alexandria\n",
      "Processing Record 37 of Set 5 | lata\n",
      "Processing Record 38 of Set 5 | parana\n",
      "Processing Record 39 of Set 5 | le port\n",
      "Processing Record 40 of Set 5 | aden\n",
      "Processing Record 41 of Set 5 | aklavik\n",
      "Processing Record 42 of Set 5 | marcona\n",
      "Processing Record 43 of Set 5 | port augusta\n",
      "Processing Record 44 of Set 5 | sao miguel do araguaia\n",
      "Processing Record 45 of Set 5 | gualeguay\n",
      "Processing Record 46 of Set 5 | sinjar\n",
      "Processing Record 47 of Set 5 | boromo\n",
      "Processing Record 48 of Set 5 | port elizabeth\n",
      "Processing Record 49 of Set 5 | alakurtti\n",
      "Processing Record 0 of Set 6 | maputo\n",
      "Processing Record 1 of Set 6 | egvekinot\n",
      "Processing Record 2 of Set 6 | andarab\n",
      "Processing Record 3 of Set 6 | shelburne\n",
      "Processing Record 4 of Set 6 | tyukhtet\n",
      "Processing Record 5 of Set 6 | jiuquan\n",
      "Processing Record 6 of Set 6 | sandpoint\n",
      "Processing Record 7 of Set 6 | norman wells\n",
      "Processing Record 8 of Set 6 | ozgon\n",
      "Processing Record 9 of Set 6 | saint-philippe\n",
      "No Dice On The City Of tumannyy Sending 12s\n",
      "Processing Record 10 of Set 6 | tumannyy\n",
      "Processing Record 11 of Set 6 | ahipara\n",
      "Processing Record 12 of Set 6 | keuruu\n",
      "No Dice On The City Of sungaipenuh Sending 12s\n",
      "Processing Record 13 of Set 6 | sungaipenuh\n",
      "Processing Record 14 of Set 6 | irpa irpa\n",
      "Processing Record 15 of Set 6 | hualmay\n",
      "Processing Record 16 of Set 6 | harper\n",
      "Processing Record 17 of Set 6 | druzhba\n",
      "Processing Record 18 of Set 6 | benghazi\n",
      "Processing Record 19 of Set 6 | banda aceh\n",
      "Processing Record 20 of Set 6 | bambous virieux\n",
      "Processing Record 21 of Set 6 | filadelfia\n",
      "Processing Record 22 of Set 6 | saint george\n",
      "Processing Record 23 of Set 6 | sur\n",
      "Processing Record 24 of Set 6 | nortelandia\n",
      "Processing Record 25 of Set 6 | tiksi\n",
      "Processing Record 26 of Set 6 | port lincoln\n",
      "Processing Record 27 of Set 6 | miles city\n",
      "Processing Record 28 of Set 6 | vanimo\n",
      "Processing Record 29 of Set 6 | lodja\n",
      "Processing Record 30 of Set 6 | tasiilaq\n",
      "Processing Record 31 of Set 6 | rondonopolis\n",
      "Processing Record 32 of Set 6 | nabire\n",
      "Processing Record 33 of Set 6 | yakeshi\n",
      "Processing Record 34 of Set 6 | manta\n",
      "Processing Record 35 of Set 6 | alta floresta\n",
      "Processing Record 36 of Set 6 | labuhan\n",
      "Processing Record 37 of Set 6 | ostrovnoy\n",
      "Processing Record 38 of Set 6 | barrow\n",
      "Processing Record 39 of Set 6 | eirunepe\n",
      "Processing Record 40 of Set 6 | sorvag\n",
      "Processing Record 41 of Set 6 | lindi\n",
      "Processing Record 42 of Set 6 | valle de allende\n",
      "Processing Record 43 of Set 6 | fortuna\n",
      "Processing Record 44 of Set 6 | bolungarvik\n",
      "Processing Record 45 of Set 6 | pangnirtung\n",
      "Processing Record 46 of Set 6 | qaqortoq\n",
      "Processing Record 47 of Set 6 | half moon bay\n",
      "Processing Record 48 of Set 6 | sakakah\n",
      "Processing Record 49 of Set 6 | vrede\n",
      "Processing Record 0 of Set 7 | nguiu\n",
      "Processing Record 1 of Set 7 | abu kamal\n",
      "Processing Record 2 of Set 7 | mogok\n",
      "Processing Record 3 of Set 7 | wageningen\n",
      "Processing Record 4 of Set 7 | flinders\n",
      "Processing Record 5 of Set 7 | ust-tsilma\n",
      "Processing Record 6 of Set 7 | college\n",
      "Processing Record 7 of Set 7 | khani\n",
      "Processing Record 8 of Set 7 | rio gallegos\n",
      "Processing Record 9 of Set 7 | los llanos de aridane\n",
      "Processing Record 10 of Set 7 | pangody\n",
      "Processing Record 11 of Set 7 | longyearbyen\n",
      "Processing Record 12 of Set 7 | padang\n",
      "Processing Record 13 of Set 7 | vaitupu\n",
      "Processing Record 14 of Set 7 | grindavik\n",
      "Processing Record 15 of Set 7 | pisco\n",
      "Processing Record 16 of Set 7 | reforma\n",
      "Processing Record 17 of Set 7 | kudahuvadhoo\n",
      "Processing Record 18 of Set 7 | quatre cocos\n",
      "Processing Record 19 of Set 7 | george town\n",
      "Processing Record 20 of Set 7 | klaksvik\n",
      "Processing Record 21 of Set 7 | west wendover\n",
      "Processing Record 22 of Set 7 | mogzon\n",
      "Processing Record 23 of Set 7 | sfantu gheorghe\n",
      "Processing Record 24 of Set 7 | placido de castro\n",
      "Processing Record 25 of Set 7 | changping\n",
      "Processing Record 26 of Set 7 | samusu\n",
      "Processing Record 27 of Set 7 | lasa\n",
      "Processing Record 28 of Set 7 | stettler\n",
      "Processing Record 29 of Set 7 | henties bay\n",
      "Processing Record 30 of Set 7 | piacabucu\n",
      "Processing Record 31 of Set 7 | loukhi\n",
      "Processing Record 32 of Set 7 | narsaq\n",
      "Processing Record 33 of Set 7 | talaya\n",
      "Processing Record 34 of Set 7 | hasaki\n",
      "Processing Record 35 of Set 7 | spirit river\n",
      "Processing Record 36 of Set 7 | fuxin\n",
      "Processing Record 37 of Set 7 | morro bay\n",
      "Processing Record 38 of Set 7 | aykhal\n",
      "Processing Record 39 of Set 7 | oranjestad\n",
      "No Dice On The City Of dagshai Sending 12s\n",
      "Processing Record 40 of Set 7 | dagshai\n",
      "Processing Record 41 of Set 7 | gat\n",
      "Processing Record 42 of Set 7 | yangambi\n",
      "Processing Record 43 of Set 7 | morros\n",
      "Processing Record 44 of Set 7 | bor\n",
      "Processing Record 45 of Set 7 | kyra\n",
      "Processing Record 46 of Set 7 | manoharpur\n",
      "Processing Record 47 of Set 7 | burica\n",
      "Processing Record 48 of Set 7 | los palacios\n",
      "Processing Record 49 of Set 7 | isla mujeres\n",
      "Processing Record 0 of Set 8 | kota belud\n",
      "Processing Record 1 of Set 8 | grand gaube\n",
      "Processing Record 2 of Set 8 | saint-louis\n",
      "Processing Record 3 of Set 8 | umzimvubu\n",
      "Processing Record 4 of Set 8 | caravelas\n",
      "Processing Record 5 of Set 8 | corrente\n",
      "Processing Record 6 of Set 8 | miracema do tocantins\n",
      "Processing Record 7 of Set 8 | shingu\n",
      "Processing Record 8 of Set 8 | limbang\n",
      "Processing Record 9 of Set 8 | souillac\n",
      "Processing Record 10 of Set 8 | okhotsk\n",
      "No Dice On The City Of manavalakurichi Sending 12s\n",
      "Processing Record 11 of Set 8 | manavalakurichi\n",
      "Processing Record 12 of Set 8 | alofi\n",
      "Processing Record 13 of Set 8 | hilton head island\n",
      "Processing Record 14 of Set 8 | berlevag\n",
      "No Dice On The City Of lolua Sending 12s\n",
      "Processing Record 15 of Set 8 | lolua\n",
      "Processing Record 16 of Set 8 | clyde river\n",
      "Processing Record 17 of Set 8 | almaznyy\n",
      "Processing Record 18 of Set 8 | zhangye\n",
      "Processing Record 19 of Set 8 | port keats\n",
      "Processing Record 20 of Set 8 | anadyr\n",
      "Processing Record 21 of Set 8 | sinop\n",
      "Processing Record 22 of Set 8 | tessalit\n",
      "Processing Record 23 of Set 8 | lomovka\n",
      "Processing Record 24 of Set 8 | fevralsk\n",
      "Processing Record 25 of Set 8 | kenai\n",
      "Processing Record 26 of Set 8 | sao miguel do oeste\n",
      "Processing Record 27 of Set 8 | nizhneyansk\n",
      "Processing Record 28 of Set 8 | kimbe\n",
      "Processing Record 29 of Set 8 | bengkulu\n",
      "Processing Record 30 of Set 8 | marsabit\n",
      "Processing Record 31 of Set 8 | wa\n",
      "Processing Record 32 of Set 8 | samarai\n",
      "Processing Record 33 of Set 8 | kloulklubed\n",
      "Processing Record 34 of Set 8 | mayo\n",
      "Processing Record 35 of Set 8 | traverse city\n",
      "Processing Record 36 of Set 8 | peniche\n",
      "Processing Record 37 of Set 8 | boone\n",
      "Processing Record 38 of Set 8 | pemangkat\n",
      "Processing Record 39 of Set 8 | molodiya\n",
      "Processing Record 40 of Set 8 | tabou\n",
      "Processing Record 41 of Set 8 | beaverlodge\n",
      "Processing Record 42 of Set 8 | baijiantan\n",
      "No Dice On The City Of naryan-mar Sending 12s\n",
      "Processing Record 43 of Set 8 | naryan-mar\n",
      "No Dice On The City Of zyryanovsk Sending 12s\n",
      "Processing Record 44 of Set 8 | zyryanovsk\n",
      "Processing Record 45 of Set 8 | vanderhoof\n",
      "Processing Record 46 of Set 8 | kruisfontein\n",
      "Processing Record 47 of Set 8 | yerbogachen\n",
      "Processing Record 48 of Set 8 | conceicao do araguaia\n",
      "Processing Record 49 of Set 8 | catamarca\n",
      "Processing Record 0 of Set 9 | nara\n",
      "Processing Record 1 of Set 9 | biltine\n",
      "Processing Record 2 of Set 9 | meulaboh\n",
      "Processing Record 3 of Set 9 | mount isa\n",
      "Processing Record 4 of Set 9 | makakilo city\n",
      "Processing Record 5 of Set 9 | boden\n",
      "Processing Record 6 of Set 9 | kargasok\n",
      "Processing Record 7 of Set 9 | khromtau\n",
      "Processing Record 8 of Set 9 | camacha\n",
      "Processing Record 9 of Set 9 | pacifica\n",
      "Processing Record 10 of Set 9 | smithers\n",
      "Processing Record 11 of Set 9 | turayf\n",
      "Processing Record 12 of Set 9 | sanchursk\n",
      "Processing Record 13 of Set 9 | coari\n",
      "Processing Record 14 of Set 9 | puerto escondido\n",
      "Processing Record 15 of Set 9 | cayenne\n",
      "Processing Record 16 of Set 9 | muchkapskiy\n",
      "Processing Record 17 of Set 9 | olga\n",
      "Processing Record 18 of Set 9 | ugra\n",
      "Processing Record 19 of Set 9 | the valley\n",
      "Processing Record 20 of Set 9 | maloy\n",
      "Processing Record 21 of Set 9 | formoso do araguaia\n",
      "Processing Record 22 of Set 9 | pokhara\n",
      "Processing Record 23 of Set 9 | nemuro\n",
      "Processing Record 24 of Set 9 | ginda\n",
      "Processing Record 25 of Set 9 | dolbeau\n",
      "Processing Record 26 of Set 9 | zabid\n",
      "Processing Record 27 of Set 9 | seoul\n",
      "Processing Record 28 of Set 9 | stip\n",
      "Processing Record 29 of Set 9 | bossier city\n",
      "Processing Record 30 of Set 9 | dunedin\n",
      "Processing Record 31 of Set 9 | ponta delgada\n",
      "Processing Record 32 of Set 9 | comodoro rivadavia\n",
      "Processing Record 33 of Set 9 | kirksville\n",
      "Processing Record 34 of Set 9 | watsa\n",
      "Processing Record 35 of Set 9 | bilma\n",
      "Processing Record 36 of Set 9 | sukumo\n",
      "Processing Record 37 of Set 9 | vila franca do campo\n",
      "Processing Record 38 of Set 9 | nuuk\n",
      "Processing Record 39 of Set 9 | tairua\n",
      "Processing Record 40 of Set 9 | pariquera-acu\n",
      "Processing Record 41 of Set 9 | qidong\n",
      "Processing Record 42 of Set 9 | spirovo\n",
      "Processing Record 43 of Set 9 | ternate\n",
      "Processing Record 44 of Set 9 | baena\n",
      "No Dice On The City Of mahadday weyne Sending 12s\n",
      "Processing Record 45 of Set 9 | mahadday weyne\n",
      "Processing Record 46 of Set 9 | ulaangom\n",
      "Processing Record 47 of Set 9 | ulladulla\n",
      "Processing Record 48 of Set 9 | magrath\n",
      "Processing Record 49 of Set 9 | belyy\n",
      "Processing Record 0 of Set 10 | khomutovka\n",
      "Processing Record 1 of Set 10 | kisangani\n",
      "Processing Record 2 of Set 10 | auki\n",
      "Processing Record 3 of Set 10 | taoudenni\n",
      "No Dice On The City Of saleaula Sending 12s\n",
      "Processing Record 4 of Set 10 | saleaula\n",
      "Processing Record 5 of Set 10 | ambon\n",
      "Processing Record 6 of Set 10 | lumeje\n",
      "Processing Record 7 of Set 10 | mangan\n",
      "Processing Record 8 of Set 10 | kieta\n",
      "Processing Record 9 of Set 10 | havre\n",
      "Processing Record 10 of Set 10 | bud\n",
      "Processing Record 11 of Set 10 | aksu\n",
      "Processing Record 12 of Set 10 | dakar\n",
      "No Dice On The City Of uyemskiy Sending 12s\n",
      "Processing Record 13 of Set 10 | uyemskiy\n",
      "Processing Record 14 of Set 10 | caruray\n",
      "Processing Record 15 of Set 10 | pierre\n",
      "Processing Record 16 of Set 10 | kabanjahe\n",
      "Processing Record 17 of Set 10 | riohacha\n",
      "Processing Record 18 of Set 10 | korla\n",
      "Processing Record 19 of Set 10 | timra\n",
      "Processing Record 20 of Set 10 | irondequoit\n",
      "Processing Record 21 of Set 10 | kiruna\n",
      "Processing Record 22 of Set 10 | binga\n",
      "Processing Record 23 of Set 10 | north las vegas\n",
      "Processing Record 24 of Set 10 | mackenzie\n",
      "Processing Record 25 of Set 10 | whitehorse\n",
      "Processing Record 26 of Set 10 | vigia del fuerte\n",
      "Processing Record 27 of Set 10 | sun city west\n",
      "Processing Record 28 of Set 10 | avera\n",
      "Processing Record 29 of Set 10 | trincomalee\n",
      "Processing Record 30 of Set 10 | ocos\n",
      "No Dice On The City Of meyungs Sending 12s\n",
      "Processing Record 31 of Set 10 | meyungs\n",
      "Processing Record 32 of Set 10 | terrace bay\n",
      "Processing Record 33 of Set 10 | puerto berrio\n",
      "No Dice On The City Of asekeyevo Sending 12s\n",
      "Processing Record 34 of Set 10 | asekeyevo\n",
      "Processing Record 35 of Set 10 | barentu\n",
      "Processing Record 36 of Set 10 | atchison\n",
      "Processing Record 37 of Set 10 | huanren\n",
      "Processing Record 38 of Set 10 | ketchikan\n",
      "Processing Record 39 of Set 10 | kerman\n",
      "Processing Record 40 of Set 10 | svetlyy\n",
      "Processing Record 41 of Set 10 | high rock\n",
      "Processing Record 42 of Set 10 | bubaque\n",
      "Processing Record 43 of Set 10 | moroni\n",
      "Processing Record 44 of Set 10 | resistencia\n",
      "Processing Record 45 of Set 10 | bafq\n",
      "Processing Record 46 of Set 10 | voi\n",
      "Processing Record 47 of Set 10 | aporawan\n",
      "Processing Record 48 of Set 10 | komsomolskiy\n",
      "Processing Record 49 of Set 10 | camana\n",
      "Processing Record 0 of Set 11 | port hedland\n",
      "Processing Record 1 of Set 11 | hami\n",
      "Processing Record 2 of Set 11 | mergui\n",
      "Processing Record 3 of Set 11 | matay\n",
      "Processing Record 4 of Set 11 | uvinza\n",
      "Processing Record 5 of Set 11 | faya\n",
      "Processing Record 6 of Set 11 | mentok\n",
      "Processing Record 7 of Set 11 | gamba\n",
      "Processing Record 8 of Set 11 | meadow lake\n",
      "Processing Record 9 of Set 11 | grand river south east\n",
      "Processing Record 10 of Set 11 | murray bridge\n",
      "Processing Record 11 of Set 11 | gushikawa\n",
      "Processing Record 12 of Set 11 | pine bluff\n",
      "Processing Record 13 of Set 11 | karaul\n",
      "Processing Record 14 of Set 11 | ouango\n",
      "Processing Record 15 of Set 11 | sataua\n",
      "Processing Record 16 of Set 11 | brae\n",
      "Processing Record 17 of Set 11 | blythe\n",
      "Processing Record 18 of Set 11 | north platte\n",
      "Processing Record 19 of Set 11 | trinidad\n",
      "Processing Record 20 of Set 11 | mitchell\n",
      "Processing Record 21 of Set 11 | miraflores\n",
      "Processing Record 22 of Set 11 | umm lajj\n",
      "Processing Record 23 of Set 11 | pahrump\n",
      "Processing Record 24 of Set 11 | dinguiraye\n",
      "Processing Record 25 of Set 11 | vestmannaeyjar\n",
      "Processing Record 26 of Set 11 | rawatsar\n",
      "Processing Record 27 of Set 11 | hollola\n",
      "Processing Record 28 of Set 11 | puerto leguizamo\n",
      "Processing Record 29 of Set 11 | urengoy\n",
      "No Dice On The City Of ongandjera Sending 12s\n",
      "Processing Record 30 of Set 11 | ongandjera\n",
      "Processing Record 31 of Set 11 | provideniya\n",
      "Processing Record 32 of Set 11 | chapais\n",
      "Processing Record 33 of Set 11 | solnechnyy\n",
      "Processing Record 34 of Set 11 | disraeli\n",
      "Processing Record 35 of Set 11 | churapcha\n",
      "Processing Record 36 of Set 11 | paucartambo\n",
      "Processing Record 37 of Set 11 | dekalb\n",
      "Processing Record 38 of Set 11 | byron bay\n",
      "Processing Record 39 of Set 11 | muros\n",
      "Processing Record 40 of Set 11 | tongchuan\n",
      "Processing Record 41 of Set 11 | mokolo\n",
      "Processing Record 42 of Set 11 | orbetello\n",
      "Processing Record 43 of Set 11 | pyapon\n",
      "Processing Record 44 of Set 11 | rawlins\n",
      "Processing Record 45 of Set 11 | binzhou\n",
      "Processing Record 46 of Set 11 | colares\n",
      "Processing Record 47 of Set 11 | birao\n",
      "Processing Record 48 of Set 11 | chulman\n",
      "No Dice On The City Of fort saint john Sending 12s\n",
      "Processing Record 49 of Set 11 | fort saint john\n",
      "Processing Record 0 of Set 12 | armacao dos buzios\n",
      "Processing Record 1 of Set 12 | glenwood springs\n",
      "Processing Record 2 of Set 12 | baruun-urt\n",
      "Processing Record 3 of Set 12 | araouane\n",
      "Processing Record 4 of Set 12 | koshurnikovo\n",
      "Processing Record 5 of Set 12 | taltal\n",
      "Processing Record 6 of Set 12 | fergus falls\n",
      "Processing Record 7 of Set 12 | dingle\n",
      "Processing Record 8 of Set 12 | havre-saint-pierre\n",
      "Processing Record 9 of Set 12 | asfi\n",
      "Processing Record 10 of Set 12 | jiaojiang\n",
      "Processing Record 11 of Set 12 | aksarka\n",
      "Processing Record 12 of Set 12 | goderich\n",
      "Processing Record 13 of Set 12 | mitsamiouli\n",
      "Processing Record 14 of Set 12 | majene\n",
      "Processing Record 15 of Set 12 | jistebnice\n",
      "Processing Record 16 of Set 12 | beira\n",
      "Processing Record 17 of Set 12 | ibirama\n",
      "Processing Record 18 of Set 12 | bilibino\n",
      "Processing Record 19 of Set 12 | stolin\n",
      "Processing Record 20 of Set 12 | gaoual\n",
      "Processing Record 21 of Set 12 | antofagasta\n",
      "Processing Record 22 of Set 12 | touros\n",
      "Processing Record 23 of Set 12 | clifton\n",
      "Processing Record 24 of Set 12 | ciudad bolivar\n",
      "Processing Record 25 of Set 12 | kindu\n",
      "Processing Record 26 of Set 12 | outjo\n",
      "Processing Record 27 of Set 12 | vestmanna\n",
      "Processing Record 28 of Set 12 | rangapara\n",
      "Processing Record 29 of Set 12 | bagdarin\n",
      "Processing Record 30 of Set 12 | pitimbu\n",
      "Processing Record 31 of Set 12 | sioux falls\n",
      "Processing Record 32 of Set 12 | iglesias\n",
      "Processing Record 33 of Set 12 | codrington\n",
      "Processing Record 34 of Set 12 | nyanza\n",
      "Processing Record 35 of Set 12 | florianopolis\n",
      "Processing Record 36 of Set 12 | ngukurr\n",
      "Processing Record 37 of Set 12 | kandrian\n",
      "Processing Record 38 of Set 12 | wanning\n",
      "Processing Record 39 of Set 12 | naze\n",
      "Processing Record 40 of Set 12 | rentina\n",
      "Processing Record 41 of Set 12 | upata\n",
      "Processing Record 42 of Set 12 | morondava\n",
      "Processing Record 43 of Set 12 | shibetsu\n",
      "Processing Record 44 of Set 12 | sumedang\n",
      "Processing Record 45 of Set 12 | svetlogorsk\n",
      "Processing Record 46 of Set 12 | eyl\n",
      "Processing Record 47 of Set 12 | uray\n",
      "Processing Record 48 of Set 12 | quepos\n",
      "Processing Record 49 of Set 12 | lokosovo\n",
      "Processing Record 0 of Set 13 | jiangyou\n",
      "Processing Record 1 of Set 13 | simpang\n",
      "Processing Record 2 of Set 13 | kousseri\n",
      "Processing Record 3 of Set 13 | storforshei\n",
      "Processing Record 4 of Set 13 | sumkino\n",
      "No Dice On The City Of kurchum Sending 12s\n",
      "Processing Record 5 of Set 13 | kurchum\n",
      "Processing Record 6 of Set 13 | myanaung\n",
      "-----------------------------\n",
      "Data Retrieval Complete      \n",
      "-----------------------------\n"
     ]
    }
   ],
   "source": [
    "\n",
    "# Create counters\n",
    "record_count = 1\n",
    "set_count = 1\n",
    "new_city_data = []\n",
    "# Loop through all the cities in our list to fetch weather data\n",
    "for i, city in enumerate(cities):\n",
    "        \n",
    "    # Group cities in sets of 50 for logging purposes\n",
    "    if (i % 50 == 0 and i >= 50):\n",
    "        set_count += 1\n",
    "        record_count = 0\n",
    "\n",
    "    # Create endpoint URL with each city\n",
    "    # url + f\"lat={city_lat_lon['lat']}&lon={city_lat_lon['lon']}&appid={weather_api_key}\"\n",
    "    # ltlng_city = name_to_lat_lon(city)\n",
    "    # city_url = url + f\"lat={ltlng_city['lat']}&lon{ltlng_city['lon']}&appid={weather_api_key}\"\n",
    "    city_lat_lon = name_to_lat_lon(city)\n",
    "    city_url = url + f\"lat={city_lat_lon['lat']}&lon={city_lat_lon['lon']}&appid={weather_api_key}\"\n",
    "    # print(city_url)\n",
    "    # Log the url, record, and set numbers\n",
    "    print(\"Processing Record %s of Set %s | %s\" % (record_count, set_count, city))\n",
    "\n",
    "    # Add 1 to the record count\n",
    "    record_count += 1\n",
    "\n",
    "    # Run an API request for each of the cities\n",
    "    try:\n",
    "        # Parse the JSON and retrieve data\n",
    "        \"city_weather = json.loads(requests.get(city_url).content) \"\n",
    "        # Parse out latitude, longitude, max temp, humidity, cloudiness, wind speed, country, and date\n",
    "        city_lat = city_weather[\"lat\"]\n",
    "        city_lng = city_weather[\"lon\"]\n",
    "        city_max_temp = city_weather[\"daily\"][0][\"temp\"][\"max\"]\n",
    "        city_humidity = city_weather[\"current\"][\"humidity\"]\n",
    "        city_clouds = city_weather[\"current\"][\"clouds\"]\n",
    "        city_wind = city_weather[\"current\"][\"wind_speed\"]\n",
    "        city_country = city_weather[\"timezone\"]\n",
    "        city_date = city_weather[\"current\"][\"dt\"]\n",
    "\n",
    "        # Append the City information into city_data list\n",
    "        city_w={\"City\": city, \n",
    "                          \"Lat\": city_lat, \n",
    "                          \"Lng\": city_lng, \n",
    "                          \"Max Temp\": city_max_temp,\n",
    "                          \"Humidity\": city_humidity,\n",
    "                          \"Cloudiness\": city_clouds,\n",
    "                          \"Wind Speed\": city_wind,\n",
    "                          \"Country\": city_country,\n",
    "                          \"Date\": city_date\n",
    "                        }\n",
    "        # print(city_w)                          \n",
    "        city_data.append(city_w)\n",
    "        \n",
    "    # If an error is experienced, skip the city\n",
    "    except:\n",
    "        print(\"City not found. Skipping...\")\n",
    "        pass\n",
    "              \n",
    "# Indicate that Data Loading is complete \n",
    "print(\"-----------------------------\")\n",
    "print(\"Data Retrieval Complete      \")\n",
    "print(\"-----------------------------\")"
   ]
  },
  {
   "cell_type": "code",
   "execution_count": null,
   "metadata": {},
   "outputs": [],
   "source": []
  },
  {
   "cell_type": "code",
   "execution_count": 113,
   "metadata": {},
   "outputs": [
    {
     "data": {
      "text/plain": [
       "City          607\n",
       "Lat           607\n",
       "Lng           607\n",
       "Max Temp      607\n",
       "Humidity      607\n",
       "Cloudiness    607\n",
       "Wind Speed    607\n",
       "Country       607\n",
       "Date          607\n",
       "dtype: int64"
      ]
     },
     "execution_count": 113,
     "metadata": {},
     "output_type": "execute_result"
    }
   ],
   "source": [
    "# Convert the cities weather data into a Pandas DataFrame\n",
    "city_data_df = pd.DataFrame(city_data)\n",
    "\n",
    "# Show Record Count\n",
    "city_data_df.count()"
   ]
  },
  {
   "cell_type": "code",
   "execution_count": 114,
   "metadata": {},
   "outputs": [
    {
     "data": {
      "text/html": [
       "<div>\n",
       "<style scoped>\n",
       "    .dataframe tbody tr th:only-of-type {\n",
       "        vertical-align: middle;\n",
       "    }\n",
       "\n",
       "    .dataframe tbody tr th {\n",
       "        vertical-align: top;\n",
       "    }\n",
       "\n",
       "    .dataframe thead th {\n",
       "        text-align: right;\n",
       "    }\n",
       "</style>\n",
       "<table border=\"1\" class=\"dataframe\">\n",
       "  <thead>\n",
       "    <tr style=\"text-align: right;\">\n",
       "      <th></th>\n",
       "      <th>City</th>\n",
       "      <th>Lat</th>\n",
       "      <th>Lng</th>\n",
       "      <th>Max Temp</th>\n",
       "      <th>Humidity</th>\n",
       "      <th>Cloudiness</th>\n",
       "      <th>Wind Speed</th>\n",
       "      <th>Country</th>\n",
       "      <th>Date</th>\n",
       "    </tr>\n",
       "  </thead>\n",
       "  <tbody>\n",
       "    <tr>\n",
       "      <th>0</th>\n",
       "      <td>busselton</td>\n",
       "      <td>-33.6445</td>\n",
       "      <td>115.3489</td>\n",
       "      <td>302.39</td>\n",
       "      <td>83</td>\n",
       "      <td>2</td>\n",
       "      <td>5.41</td>\n",
       "      <td>Australia/Perth</td>\n",
       "      <td>1675895673</td>\n",
       "    </tr>\n",
       "    <tr>\n",
       "      <th>1</th>\n",
       "      <td>ewa beach</td>\n",
       "      <td>21.3156</td>\n",
       "      <td>-158.0088</td>\n",
       "      <td>298.69</td>\n",
       "      <td>54</td>\n",
       "      <td>0</td>\n",
       "      <td>7.72</td>\n",
       "      <td>Pacific/Honolulu</td>\n",
       "      <td>1675895674</td>\n",
       "    </tr>\n",
       "    <tr>\n",
       "      <th>2</th>\n",
       "      <td>yellowknife</td>\n",
       "      <td>62.4541</td>\n",
       "      <td>-114.3774</td>\n",
       "      <td>253.66</td>\n",
       "      <td>84</td>\n",
       "      <td>20</td>\n",
       "      <td>2.57</td>\n",
       "      <td>America/Yellowknife</td>\n",
       "      <td>1675895676</td>\n",
       "    </tr>\n",
       "    <tr>\n",
       "      <th>3</th>\n",
       "      <td>tuktoyaktuk</td>\n",
       "      <td>69.4440</td>\n",
       "      <td>-133.0319</td>\n",
       "      <td>245.96</td>\n",
       "      <td>68</td>\n",
       "      <td>20</td>\n",
       "      <td>2.06</td>\n",
       "      <td>America/Inuvik</td>\n",
       "      <td>1675895678</td>\n",
       "    </tr>\n",
       "    <tr>\n",
       "      <th>4</th>\n",
       "      <td>saskylakh</td>\n",
       "      <td>71.9650</td>\n",
       "      <td>114.0939</td>\n",
       "      <td>235.87</td>\n",
       "      <td>100</td>\n",
       "      <td>83</td>\n",
       "      <td>2.89</td>\n",
       "      <td>Asia/Yakutsk</td>\n",
       "      <td>1675895679</td>\n",
       "    </tr>\n",
       "  </tbody>\n",
       "</table>\n",
       "</div>"
      ],
      "text/plain": [
       "          City      Lat       Lng  Max Temp  Humidity  Cloudiness  Wind Speed  \\\n",
       "0    busselton -33.6445  115.3489    302.39        83           2        5.41   \n",
       "1    ewa beach  21.3156 -158.0088    298.69        54           0        7.72   \n",
       "2  yellowknife  62.4541 -114.3774    253.66        84          20        2.57   \n",
       "3  tuktoyaktuk  69.4440 -133.0319    245.96        68          20        2.06   \n",
       "4    saskylakh  71.9650  114.0939    235.87       100          83        2.89   \n",
       "\n",
       "               Country        Date  \n",
       "0      Australia/Perth  1675895673  \n",
       "1     Pacific/Honolulu  1675895674  \n",
       "2  America/Yellowknife  1675895676  \n",
       "3       America/Inuvik  1675895678  \n",
       "4         Asia/Yakutsk  1675895679  "
      ]
     },
     "execution_count": 114,
     "metadata": {},
     "output_type": "execute_result"
    }
   ],
   "source": [
    "# Display sample data\n",
    "city_data_df.head()"
   ]
  },
  {
   "cell_type": "code",
   "execution_count": 116,
   "metadata": {},
   "outputs": [],
   "source": [
    "# Export the City_Data into a csv\n",
    "city_data_df.to_csv(\"output_data/cities.csv\", index_label=\"City_ID\")"
   ]
  },
  {
   "cell_type": "code",
   "execution_count": 121,
   "metadata": {},
   "outputs": [
    {
     "data": {
      "text/html": [
       "<div>\n",
       "<style scoped>\n",
       "    .dataframe tbody tr th:only-of-type {\n",
       "        vertical-align: middle;\n",
       "    }\n",
       "\n",
       "    .dataframe tbody tr th {\n",
       "        vertical-align: top;\n",
       "    }\n",
       "\n",
       "    .dataframe thead th {\n",
       "        text-align: right;\n",
       "    }\n",
       "</style>\n",
       "<table border=\"1\" class=\"dataframe\">\n",
       "  <thead>\n",
       "    <tr style=\"text-align: right;\">\n",
       "      <th></th>\n",
       "      <th>City</th>\n",
       "      <th>Lat</th>\n",
       "      <th>Lng</th>\n",
       "      <th>Max Temp</th>\n",
       "      <th>Humidity</th>\n",
       "      <th>Cloudiness</th>\n",
       "      <th>Wind Speed</th>\n",
       "      <th>Country</th>\n",
       "      <th>Date</th>\n",
       "    </tr>\n",
       "    <tr>\n",
       "      <th>City_ID</th>\n",
       "      <th></th>\n",
       "      <th></th>\n",
       "      <th></th>\n",
       "      <th></th>\n",
       "      <th></th>\n",
       "      <th></th>\n",
       "      <th></th>\n",
       "      <th></th>\n",
       "      <th></th>\n",
       "    </tr>\n",
       "  </thead>\n",
       "  <tbody>\n",
       "    <tr>\n",
       "      <th>0</th>\n",
       "      <td>busselton</td>\n",
       "      <td>-33.6445</td>\n",
       "      <td>115.3489</td>\n",
       "      <td>302.39</td>\n",
       "      <td>83</td>\n",
       "      <td>2</td>\n",
       "      <td>5.41</td>\n",
       "      <td>Australia/Perth</td>\n",
       "      <td>1675895673</td>\n",
       "    </tr>\n",
       "    <tr>\n",
       "      <th>1</th>\n",
       "      <td>ewa beach</td>\n",
       "      <td>21.3156</td>\n",
       "      <td>-158.0088</td>\n",
       "      <td>298.69</td>\n",
       "      <td>54</td>\n",
       "      <td>0</td>\n",
       "      <td>7.72</td>\n",
       "      <td>Pacific/Honolulu</td>\n",
       "      <td>1675895674</td>\n",
       "    </tr>\n",
       "    <tr>\n",
       "      <th>2</th>\n",
       "      <td>yellowknife</td>\n",
       "      <td>62.4541</td>\n",
       "      <td>-114.3774</td>\n",
       "      <td>253.66</td>\n",
       "      <td>84</td>\n",
       "      <td>20</td>\n",
       "      <td>2.57</td>\n",
       "      <td>America/Yellowknife</td>\n",
       "      <td>1675895676</td>\n",
       "    </tr>\n",
       "    <tr>\n",
       "      <th>3</th>\n",
       "      <td>tuktoyaktuk</td>\n",
       "      <td>69.4440</td>\n",
       "      <td>-133.0319</td>\n",
       "      <td>245.96</td>\n",
       "      <td>68</td>\n",
       "      <td>20</td>\n",
       "      <td>2.06</td>\n",
       "      <td>America/Inuvik</td>\n",
       "      <td>1675895678</td>\n",
       "    </tr>\n",
       "    <tr>\n",
       "      <th>4</th>\n",
       "      <td>saskylakh</td>\n",
       "      <td>71.9650</td>\n",
       "      <td>114.0939</td>\n",
       "      <td>235.87</td>\n",
       "      <td>100</td>\n",
       "      <td>83</td>\n",
       "      <td>2.89</td>\n",
       "      <td>Asia/Yakutsk</td>\n",
       "      <td>1675895679</td>\n",
       "    </tr>\n",
       "  </tbody>\n",
       "</table>\n",
       "</div>"
      ],
      "text/plain": [
       "                City      Lat       Lng  Max Temp  Humidity  Cloudiness  \\\n",
       "City_ID                                                                   \n",
       "0          busselton -33.6445  115.3489    302.39        83           2   \n",
       "1          ewa beach  21.3156 -158.0088    298.69        54           0   \n",
       "2        yellowknife  62.4541 -114.3774    253.66        84          20   \n",
       "3        tuktoyaktuk  69.4440 -133.0319    245.96        68          20   \n",
       "4          saskylakh  71.9650  114.0939    235.87       100          83   \n",
       "\n",
       "         Wind Speed              Country        Date  \n",
       "City_ID                                               \n",
       "0              5.41      Australia/Perth  1675895673  \n",
       "1              7.72     Pacific/Honolulu  1675895674  \n",
       "2              2.57  America/Yellowknife  1675895676  \n",
       "3              2.06       America/Inuvik  1675895678  \n",
       "4              2.89         Asia/Yakutsk  1675895679  "
      ]
     },
     "execution_count": 121,
     "metadata": {},
     "output_type": "execute_result"
    }
   ],
   "source": [
    "# Read saved data\n",
    "city_data_df = pd.read_csv(\"output_data/cities.csv\", index_col=\"City_ID\")\n",
    "\n",
    "# Display sample data\n",
    "city_data_df.head()"
   ]
  },
  {
   "cell_type": "markdown",
   "metadata": {},
   "source": [
    "### Create the Scatter Plots Requested\n",
    "\n",
    "#### Latitude Vs. Temperature"
   ]
  },
  {
   "cell_type": "code",
   "execution_count": 122,
   "metadata": {
    "tags": []
   },
   "outputs": [
    {
     "data": {
      "image/png": "[encoded data removed]",
      "text/plain": [
       "<Figure size 432x288 with 1 Axes>"
      ]
     },
     "metadata": {
      "needs_background": "light"
     },
     "output_type": "display_data"
    }
   ],
   "source": [
    "def scattered_like_sand(x,y,xl,yl,title):\n",
    "    plt.scatter(x=x,y=y)\n",
    "    plt.xlabel(xl)\n",
    "    plt.ylabel(yl)\n",
    "    plt.title(title)\n",
    "    \n",
    "def lat_sand(factor):\n",
    "    scattered_like_sand(city_data_df[\"Lat\"],city_data_df[factor],\"Latitude\",factor,f\"Latitude's effect on {factor}\")\n",
    "    \n",
    "# Build scatter plot for latitude vs. temperature\n",
    "city_data_df.plot(kind=\"scatter\", x=\"Lat\", y=\"Max Temp\")\n",
    "lat_sand(\"Max Temp\")\n",
    "# Incorporate the other graph properties\n",
    "# YOUR CODE HERE\n",
    "\n",
    "# Save the figure\n",
    "plt.savefig(\"output_data/Fig1.png\")\n",
    "\n",
    "# Show plot\n",
    "plt.show()"
   ]
  },
  {
   "cell_type": "markdown",
   "metadata": {},
   "source": [
    "#### Latitude Vs. Humidity"
   ]
  },
  {
   "cell_type": "code",
   "execution_count": 123,
   "metadata": {},
   "outputs": [
    {
     "data": {
      "image/png": "[encoded data removed]",
      "text/plain": [
       "<Figure size 432x288 with 1 Axes>"
      ]
     },
     "metadata": {
      "needs_background": "light"
     },
     "output_type": "display_data"
    }
   ],
   "source": [
    "# Build the scatter plots for latitude vs. humidity\n",
    "city_data_df.plot(kind=\"scatter\", x=\"Lat\", y=\"Humidity\")\n",
    "lat_sand(\"Humidity\")\n",
    "\n",
    "\n",
    "\n",
    "# Save the figure\n",
    "plt.savefig(\"output_data/Fig2.png\")\n",
    "\n",
    "# Show plot\n",
    "plt.show()"
   ]
  },
  {
   "cell_type": "markdown",
   "metadata": {},
   "source": [
    "#### Latitude Vs. Cloudiness"
   ]
  },
  {
   "cell_type": "code",
   "execution_count": 124,
   "metadata": {},
   "outputs": [
    {
     "data": {
      "image/png": "[encoded data removed]",
      "text/plain": [
       "<Figure size 432x288 with 1 Axes>"
      ]
     },
     "metadata": {
      "needs_background": "light"
     },
     "output_type": "display_data"
    }
   ],
   "source": [
    "# Build the scatter plots for latitude vs. cloudiness\n",
    "city_data_df.plot(kind=\"scatter\", x=\"Lat\", y=\"Cloudiness\")\n",
    "lat_sand(\"Cloudiness\")\n",
    "# Incorporate the other graph properties\n",
    "# YOUR CODE HERE\n",
    "\n",
    "# Save the figure\n",
    "plt.savefig(\"output_data/Fig3.png\")\n",
    "\n",
    "# Show plot\n",
    "plt.show()"
   ]
  },
  {
   "cell_type": "markdown",
   "metadata": {},
   "source": [
    "#### Latitude vs. Wind Speed Plot"
   ]
  },
  {
   "cell_type": "code",
   "execution_count": 125,
   "metadata": {},
   "outputs": [
    {
     "data": {
      "image/png": "[encoded data removed]",
      "text/plain": [
       "<Figure size 432x288 with 1 Axes>"
      ]
     },
     "metadata": {
      "needs_background": "light"
     },
     "output_type": "display_data"
    }
   ],
   "source": [
    "# Build the scatter plots for latitude vs. wind speed\n",
    "city_data_df.plot(kind=\"scatter\", x=\"Lat\", y=\"Wind Speed\")\n",
    "lat_sand(\"Wind Speed\")\n",
    "\n",
    "\n",
    "# Incorporate the other graph properties\n",
    "# YOUR CODE HERE\n",
    "\n",
    "# Save the figure\n",
    "plt.savefig(\"output_data/Fig4.png\")\n",
    "\n",
    "# Show plot\n",
    "plt.show()"
   ]
  },
  {
   "cell_type": "markdown",
   "metadata": {},
   "source": [
    "---\n",
    "\n",
    "## Requirement 2: Compute Linear Regression for Each Relationship\n"
   ]
  },
  {
   "cell_type": "code",
   "execution_count": 138,
   "metadata": {},
   "outputs": [],
   "source": [
    "# Define a function to create Linear Regression plots\n",
    "def generate_lin_regress_plot(data_x,data_y,title):\n",
    "    plt.scatter(data_x,y=data_y)\n",
    "    plt.title(title)\n",
    "    (s,i,r,p,stdv) = linregress(data_x,data_y) \n",
    "    regress = data_x * s + i\n",
    "    plt.plot(data_x,regress, \"r-\")\n",
    "    print(f\"y = {s}x+{i}\")\n",
    "    print(\"rval:\",r)"
   ]
  },
  {
   "cell_type": "code",
   "execution_count": 127,
   "metadata": {},
   "outputs": [
    {
     "data": {
      "text/html": [
       "<div>\n",
       "<style scoped>\n",
       "    .dataframe tbody tr th:only-of-type {\n",
       "        vertical-align: middle;\n",
       "    }\n",
       "\n",
       "    .dataframe tbody tr th {\n",
       "        vertical-align: top;\n",
       "    }\n",
       "\n",
       "    .dataframe thead th {\n",
       "        text-align: right;\n",
       "    }\n",
       "</style>\n",
       "<table border=\"1\" class=\"dataframe\">\n",
       "  <thead>\n",
       "    <tr style=\"text-align: right;\">\n",
       "      <th></th>\n",
       "      <th>City</th>\n",
       "      <th>Lat</th>\n",
       "      <th>Lng</th>\n",
       "      <th>Max Temp</th>\n",
       "      <th>Humidity</th>\n",
       "      <th>Cloudiness</th>\n",
       "      <th>Wind Speed</th>\n",
       "      <th>Country</th>\n",
       "      <th>Date</th>\n",
       "    </tr>\n",
       "    <tr>\n",
       "      <th>City_ID</th>\n",
       "      <th></th>\n",
       "      <th></th>\n",
       "      <th></th>\n",
       "      <th></th>\n",
       "      <th></th>\n",
       "      <th></th>\n",
       "      <th></th>\n",
       "      <th></th>\n",
       "      <th></th>\n",
       "    </tr>\n",
       "  </thead>\n",
       "  <tbody>\n",
       "    <tr>\n",
       "      <th>1</th>\n",
       "      <td>ewa beach</td>\n",
       "      <td>21.3156</td>\n",
       "      <td>-158.0088</td>\n",
       "      <td>298.69</td>\n",
       "      <td>54</td>\n",
       "      <td>0</td>\n",
       "      <td>7.72</td>\n",
       "      <td>Pacific/Honolulu</td>\n",
       "      <td>1675895674</td>\n",
       "    </tr>\n",
       "    <tr>\n",
       "      <th>2</th>\n",
       "      <td>yellowknife</td>\n",
       "      <td>62.4541</td>\n",
       "      <td>-114.3774</td>\n",
       "      <td>253.66</td>\n",
       "      <td>84</td>\n",
       "      <td>20</td>\n",
       "      <td>2.57</td>\n",
       "      <td>America/Yellowknife</td>\n",
       "      <td>1675895676</td>\n",
       "    </tr>\n",
       "    <tr>\n",
       "      <th>3</th>\n",
       "      <td>tuktoyaktuk</td>\n",
       "      <td>69.4440</td>\n",
       "      <td>-133.0319</td>\n",
       "      <td>245.96</td>\n",
       "      <td>68</td>\n",
       "      <td>20</td>\n",
       "      <td>2.06</td>\n",
       "      <td>America/Inuvik</td>\n",
       "      <td>1675895678</td>\n",
       "    </tr>\n",
       "    <tr>\n",
       "      <th>4</th>\n",
       "      <td>saskylakh</td>\n",
       "      <td>71.9650</td>\n",
       "      <td>114.0939</td>\n",
       "      <td>235.87</td>\n",
       "      <td>100</td>\n",
       "      <td>83</td>\n",
       "      <td>2.89</td>\n",
       "      <td>Asia/Yakutsk</td>\n",
       "      <td>1675895679</td>\n",
       "    </tr>\n",
       "    <tr>\n",
       "      <th>6</th>\n",
       "      <td>farim</td>\n",
       "      <td>36.1758</td>\n",
       "      <td>53.2654</td>\n",
       "      <td>275.26</td>\n",
       "      <td>100</td>\n",
       "      <td>100</td>\n",
       "      <td>1.11</td>\n",
       "      <td>Asia/Tehran</td>\n",
       "      <td>1675895682</td>\n",
       "    </tr>\n",
       "  </tbody>\n",
       "</table>\n",
       "</div>"
      ],
      "text/plain": [
       "                City      Lat       Lng  Max Temp  Humidity  Cloudiness  \\\n",
       "City_ID                                                                   \n",
       "1          ewa beach  21.3156 -158.0088    298.69        54           0   \n",
       "2        yellowknife  62.4541 -114.3774    253.66        84          20   \n",
       "3        tuktoyaktuk  69.4440 -133.0319    245.96        68          20   \n",
       "4          saskylakh  71.9650  114.0939    235.87       100          83   \n",
       "6              farim  36.1758   53.2654    275.26       100         100   \n",
       "\n",
       "         Wind Speed              Country        Date  \n",
       "City_ID                                               \n",
       "1              7.72     Pacific/Honolulu  1675895674  \n",
       "2              2.57  America/Yellowknife  1675895676  \n",
       "3              2.06       America/Inuvik  1675895678  \n",
       "4              2.89         Asia/Yakutsk  1675895679  \n",
       "6              1.11          Asia/Tehran  1675895682  "
      ]
     },
     "execution_count": 127,
     "metadata": {},
     "output_type": "execute_result"
    }
   ],
   "source": [
    "# Create a DataFrame with the Northern Hemisphere data (Latitude >= 0)\n",
    "northern_hemi_df= city_data_df[city_data_df[\"Lat\"]>=0]\n",
    "\n",
    "# Display sample data\n",
    "northern_hemi_df.head()"
   ]
  },
  {
   "cell_type": "code",
   "execution_count": 128,
   "metadata": {},
   "outputs": [
    {
     "data": {
      "text/html": [
       "<div>\n",
       "<style scoped>\n",
       "    .dataframe tbody tr th:only-of-type {\n",
       "        vertical-align: middle;\n",
       "    }\n",
       "\n",
       "    .dataframe tbody tr th {\n",
       "        vertical-align: top;\n",
       "    }\n",
       "\n",
       "    .dataframe thead th {\n",
       "        text-align: right;\n",
       "    }\n",
       "</style>\n",
       "<table border=\"1\" class=\"dataframe\">\n",
       "  <thead>\n",
       "    <tr style=\"text-align: right;\">\n",
       "      <th></th>\n",
       "      <th>City</th>\n",
       "      <th>Lat</th>\n",
       "      <th>Lng</th>\n",
       "      <th>Max Temp</th>\n",
       "      <th>Humidity</th>\n",
       "      <th>Cloudiness</th>\n",
       "      <th>Wind Speed</th>\n",
       "      <th>Country</th>\n",
       "      <th>Date</th>\n",
       "    </tr>\n",
       "    <tr>\n",
       "      <th>City_ID</th>\n",
       "      <th></th>\n",
       "      <th></th>\n",
       "      <th></th>\n",
       "      <th></th>\n",
       "      <th></th>\n",
       "      <th></th>\n",
       "      <th></th>\n",
       "      <th></th>\n",
       "      <th></th>\n",
       "    </tr>\n",
       "  </thead>\n",
       "  <tbody>\n",
       "    <tr>\n",
       "      <th>0</th>\n",
       "      <td>busselton</td>\n",
       "      <td>-33.6445</td>\n",
       "      <td>115.3489</td>\n",
       "      <td>302.39</td>\n",
       "      <td>83</td>\n",
       "      <td>2</td>\n",
       "      <td>5.41</td>\n",
       "      <td>Australia/Perth</td>\n",
       "      <td>1675895673</td>\n",
       "    </tr>\n",
       "    <tr>\n",
       "      <th>5</th>\n",
       "      <td>mount gambier</td>\n",
       "      <td>-37.8247</td>\n",
       "      <td>140.7820</td>\n",
       "      <td>300.03</td>\n",
       "      <td>51</td>\n",
       "      <td>5</td>\n",
       "      <td>2.09</td>\n",
       "      <td>Australia/Adelaide</td>\n",
       "      <td>1675895680</td>\n",
       "    </tr>\n",
       "    <tr>\n",
       "      <th>7</th>\n",
       "      <td>punta arenas</td>\n",
       "      <td>-53.1626</td>\n",
       "      <td>-70.9078</td>\n",
       "      <td>290.20</td>\n",
       "      <td>67</td>\n",
       "      <td>75</td>\n",
       "      <td>10.80</td>\n",
       "      <td>America/Punta_Arenas</td>\n",
       "      <td>1675895683</td>\n",
       "    </tr>\n",
       "    <tr>\n",
       "      <th>11</th>\n",
       "      <td>cape town</td>\n",
       "      <td>-33.9290</td>\n",
       "      <td>18.4174</td>\n",
       "      <td>298.62</td>\n",
       "      <td>67</td>\n",
       "      <td>0</td>\n",
       "      <td>6.71</td>\n",
       "      <td>Africa/Johannesburg</td>\n",
       "      <td>1675895688</td>\n",
       "    </tr>\n",
       "    <tr>\n",
       "      <th>13</th>\n",
       "      <td>new norfolk</td>\n",
       "      <td>-42.7802</td>\n",
       "      <td>147.0615</td>\n",
       "      <td>294.19</td>\n",
       "      <td>61</td>\n",
       "      <td>100</td>\n",
       "      <td>0.45</td>\n",
       "      <td>Australia/Hobart</td>\n",
       "      <td>1675895691</td>\n",
       "    </tr>\n",
       "  </tbody>\n",
       "</table>\n",
       "</div>"
      ],
      "text/plain": [
       "                  City      Lat       Lng  Max Temp  Humidity  Cloudiness  \\\n",
       "City_ID                                                                     \n",
       "0            busselton -33.6445  115.3489    302.39        83           2   \n",
       "5        mount gambier -37.8247  140.7820    300.03        51           5   \n",
       "7         punta arenas -53.1626  -70.9078    290.20        67          75   \n",
       "11           cape town -33.9290   18.4174    298.62        67           0   \n",
       "13         new norfolk -42.7802  147.0615    294.19        61         100   \n",
       "\n",
       "         Wind Speed               Country        Date  \n",
       "City_ID                                                \n",
       "0              5.41       Australia/Perth  1675895673  \n",
       "5              2.09    Australia/Adelaide  1675895680  \n",
       "7             10.80  America/Punta_Arenas  1675895683  \n",
       "11             6.71   Africa/Johannesburg  1675895688  \n",
       "13             0.45      Australia/Hobart  1675895691  "
      ]
     },
     "execution_count": 128,
     "metadata": {},
     "output_type": "execute_result"
    }
   ],
   "source": [
    "# Create a DataFrame with the Southern Hemisphere data (Latitude < 0)\n",
    "southern_hemi_df= city_data_df[city_data_df[\"Lat\"]<0]\n",
    "\n",
    "\n",
    "# Display sample data\n",
    "southern_hemi_df.head()"
   ]
  },
  {
   "cell_type": "markdown",
   "metadata": {},
   "source": [
    "###  Temperature vs. Latitude Linear Regression Plot"
   ]
  },
  {
   "cell_type": "code",
   "execution_count": 140,
   "metadata": {},
   "outputs": [
    {
     "name": "stdout",
     "output_type": "stream",
     "text": [
      "y = -0.7805879856718465x+311.9914860966198\n",
      "rval: -0.894137940530139\n"
     ]
    },
    {
     "data": {
      "image/png": "[encoded data removed]",
      "text/plain": [
       "<Figure size 432x288 with 1 Axes>"
      ]
     },
     "metadata": {
      "needs_background": "light"
     },
     "output_type": "display_data"
    }
   ],
   "source": [
    "# Linear regression on Northern Hemisphere\n",
    "generate_lin_regress_plot(northern_hemi_df[\"Lat\"],northern_hemi_df[\"Max Temp\"], \"Max Temp Vs Lat in North\")"
   ]
  },
  {
   "cell_type": "code",
   "execution_count": 141,
   "metadata": {},
   "outputs": [
    {
     "name": "stdout",
     "output_type": "stream",
     "text": [
      "y = 0.12970726912948563x+303.3615961401905\n",
      "rval: 0.2946448037688939\n"
     ]
    },
    {
     "data": {
      "image/png": "[encoded data removed]",
      "text/plain": [
       "<Figure size 432x288 with 1 Axes>"
      ]
     },
     "metadata": {
      "needs_background": "light"
     },
     "output_type": "display_data"
    }
   ],
   "source": [
    "# Linear regression on Southern Hemisphere\n",
    "generate_lin_regress_plot(southern_hemi_df[\"Lat\"],southern_hemi_df[\"Max Temp\"], \"Max Temp Vs Lat in South\")\n"
   ]
  },
  {
   "cell_type": "markdown",
   "metadata": {},
   "source": [
    "**Discussion about the linear relationship:** YOUR RESPONSE HERE"
   ]
  },
  {
   "attachments": {},
   "cell_type": "markdown",
   "metadata": {},
   "source": [
    "north and south temps react strongly to lat in opposite directions. because they are the same graph flipped essentially. mirrored "
   ]
  },
  {
   "cell_type": "markdown",
   "metadata": {},
   "source": [
    "### Humidity vs. Latitude Linear Regression Plot"
   ]
  },
  {
   "cell_type": "code",
   "execution_count": 142,
   "metadata": {},
   "outputs": [
    {
     "name": "stdout",
     "output_type": "stream",
     "text": [
      "y = 0.5047316453320427x+49.94027461416333\n",
      "rval: 0.43310396351811864\n"
     ]
    },
    {
     "data": {
      "image/png": "[encoded data removed]",
      "text/plain": [
       "<Figure size 432x288 with 1 Axes>"
      ]
     },
     "metadata": {
      "needs_background": "light"
     },
     "output_type": "display_data"
    }
   ],
   "source": [
    "# Northern Hemisphere\n",
    "generate_lin_regress_plot(northern_hemi_df[\"Lat\"],northern_hemi_df[\"Humidity\"], \"Humidity Vs Lat in North\")\n"
   ]
  },
  {
   "cell_type": "code",
   "execution_count": 143,
   "metadata": {},
   "outputs": [
    {
     "name": "stdout",
     "output_type": "stream",
     "text": [
      "y = 0.6494943455369624x+90.13655703256033\n",
      "rval: 0.445101915204168\n"
     ]
    },
    {
     "data": {
      "image/png": "[encoded data removed]",
      "text/plain": [
       "<Figure size 432x288 with 1 Axes>"
      ]
     },
     "metadata": {
      "needs_background": "light"
     },
     "output_type": "display_data"
    }
   ],
   "source": [
    "# Southern Hemisphere\n",
    "generate_lin_regress_plot(southern_hemi_df[\"Lat\"],southern_hemi_df[\"Humidity\"], \"Humidity Vs Lat in South\")\n"
   ]
  },
  {
   "cell_type": "markdown",
   "metadata": {},
   "source": [
    "**Discussion about the linear relationship:** YOUR RESPONSE HERE"
   ]
  },
  {
   "attachments": {},
   "cell_type": "markdown",
   "metadata": {},
   "source": [
    "southern hemisphere no link. morthern hemisphere has slight positive link"
   ]
  },
  {
   "cell_type": "markdown",
   "metadata": {},
   "source": [
    "### Cloudiness vs. Latitude Linear Regression Plot"
   ]
  },
  {
   "cell_type": "code",
   "execution_count": 144,
   "metadata": {},
   "outputs": [
    {
     "name": "stdout",
     "output_type": "stream",
     "text": [
      "y = 0.5569181937800832x+36.97286178309507\n",
      "rval: 0.29083348619590826\n"
     ]
    },
    {
     "data": {
      "image/png": "[encoded data removed]",
      "text/plain": [
       "<Figure size 432x288 with 1 Axes>"
      ]
     },
     "metadata": {
      "needs_background": "light"
     },
     "output_type": "display_data"
    }
   ],
   "source": [
    "# Northern Hemisphere\n",
    "generate_lin_regress_plot(northern_hemi_df[\"Lat\"],northern_hemi_df[\"Cloudiness\"], \"Cloudiness Vs Lat in North\")\n"
   ]
  },
  {
   "cell_type": "code",
   "execution_count": 145,
   "metadata": {},
   "outputs": [
    {
     "name": "stdout",
     "output_type": "stream",
     "text": [
      "y = 0.7868390315523232x+80.74279306227089\n",
      "rval: 0.2833512958161321\n"
     ]
    },
    {
     "data": {
      "image/png": "[encoded data removed]",
      "text/plain": [
       "<Figure size 432x288 with 1 Axes>"
      ]
     },
     "metadata": {
      "needs_background": "light"
     },
     "output_type": "display_data"
    }
   ],
   "source": [
    "# Southern Hemisphere\n",
    "generate_lin_regress_plot(southern_hemi_df[\"Lat\"],southern_hemi_df[\"Cloudiness\"], \"Cloudiness Vs Lat in South\")\n"
   ]
  },
  {
   "cell_type": "markdown",
   "metadata": {},
   "source": [
    "**Discussion about the linear relationship:** YOUR RESPONSE HERE"
   ]
  },
  {
   "attachments": {},
   "cell_type": "markdown",
   "metadata": {},
   "source": [
    "low r value means not very correlated. only slightly positively linked"
   ]
  },
  {
   "cell_type": "markdown",
   "metadata": {},
   "source": [
    "### Wind Speed vs. Latitude Linear Regression Plot"
   ]
  },
  {
   "cell_type": "code",
   "execution_count": 146,
   "metadata": {},
   "outputs": [
    {
     "name": "stdout",
     "output_type": "stream",
     "text": [
      "y = 0.023139341909926094x+3.0084078024742427\n",
      "rval: 0.16108140961216794\n"
     ]
    },
    {
     "data": {
      "image/png": "[encoded data removed]",
      "text/plain": [
       "<Figure size 432x288 with 1 Axes>"
      ]
     },
     "metadata": {
      "needs_background": "light"
     },
     "output_type": "display_data"
    }
   ],
   "source": [
    "# Northern Hemisphere\n",
    "generate_lin_regress_plot(northern_hemi_df[\"Lat\"],northern_hemi_df[\"Wind Speed\"], \"Wind Speed Vs Lat in North\")\n"
   ]
  },
  {
   "cell_type": "code",
   "execution_count": 147,
   "metadata": {},
   "outputs": [
    {
     "name": "stdout",
     "output_type": "stream",
     "text": [
      "y = -0.04585938925105746x+2.663506143091009\n",
      "rval: -0.2471317312733618\n"
     ]
    },
    {
     "data": {
      "image/png": "[encoded data removed]",
      "text/plain": [
       "<Figure size 432x288 with 1 Axes>"
      ]
     },
     "metadata": {
      "needs_background": "light"
     },
     "output_type": "display_data"
    }
   ],
   "source": [
    "# Southern Hemisphere\n",
    "generate_lin_regress_plot(southern_hemi_df[\"Lat\"],southern_hemi_df[\"Wind Speed\"], \"Wind Speed Vs Lat in South\")\n"
   ]
  },
  {
   "cell_type": "markdown",
   "metadata": {},
   "source": [
    "**Discussion about the linear relationship:** YOUR RESPONSE HERE"
   ]
  },
  {
   "attachments": {},
   "cell_type": "markdown",
   "metadata": {},
   "source": [
    "Slightly negative correlation.\n",
    "only 6%"
   ]
  }
 ],
 "metadata": {
  "anaconda-cloud": {},
  "kernel_info": {
   "name": "python3"
  },
  "kernelspec": {
   "display_name": "PythonData",
   "language": "python",
   "name": "python3"
  },
  "language_info": {
   "codemirror_mode": {
    "name": "ipython",
    "version": 3
   },
   "file_extension": ".py",
   "mimetype": "text/x-python",
   "name": "python",
   "nbconvert_exporter": "python",
   "pygments_lexer": "ipython3",
   "version": "3.7.7"
  },
  "latex_envs": {
   "LaTeX_envs_menu_present": true,
   "autoclose": false,
   "autocomplete": true,
   "bibliofile": "biblio.bib",
   "cite_by": "apalike",
   "current_citInitial": 1,
   "eqLabelWithNumbers": true,
   "eqNumInitial": 1,
   "hotkeys": {
    "equation": "Ctrl-E",
    "itemize": "Ctrl-I"
   },
   "labels_anchors": false,
   "latex_user_defs": false,
   "report_style_numbering": false,
   "user_envs_cfg": false
  },
  "nteract": {
   "version": "0.12.3"
  },
  "vscode": {
   "interpreter": {
    "hash": "4904c410c1507775547b44abbbc3629ef487f941be4e53d4b3f1c576a9d2c5a0"
   }
  }
 },
 "nbformat": 4,
 "nbformat_minor": 4
}
